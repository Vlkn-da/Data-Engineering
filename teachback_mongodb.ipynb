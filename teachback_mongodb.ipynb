{
 "cells": [
  {
   "cell_type": "code",
   "execution_count": 1,
   "id": "87badea9",
   "metadata": {},
   "outputs": [
    {
     "name": "stdout",
     "output_type": "stream",
     "text": [
      "Collecting pymongo\n",
      "  Downloading pymongo-4.6.1-cp39-cp39-win_amd64.whl.metadata (22 kB)\n",
      "Collecting dnspython<3.0.0,>=1.16.0 (from pymongo)\n",
      "  Downloading dnspython-2.4.2-py3-none-any.whl.metadata (4.9 kB)\n",
      "Downloading pymongo-4.6.1-cp39-cp39-win_amd64.whl (472 kB)\n",
      "   ---------------------------------------- 472.7/472.7 kB 1.6 MB/s eta 0:00:00\n",
      "Downloading dnspython-2.4.2-py3-none-any.whl (300 kB)\n",
      "   ---------------------------------------- 300.4/300.4 kB 2.1 MB/s eta 0:00:00\n",
      "Installing collected packages: dnspython, pymongo\n",
      "Successfully installed dnspython-2.4.2 pymongo-4.6.1\n"
     ]
    }
   ],
   "source": [
    "!pip install pymongo"
   ]
  },
  {
   "cell_type": "code",
   "execution_count": 2,
   "id": "77f8b8be",
   "metadata": {},
   "outputs": [],
   "source": [
    "from pymongo import MongoClient"
   ]
  },
  {
   "cell_type": "code",
   "execution_count": 3,
   "id": "2ba9b267",
   "metadata": {},
   "outputs": [],
   "source": [
    "client = MongoClient('mongodb://localhost:27017/')"
   ]
  },
  {
   "cell_type": "code",
   "execution_count": 4,
   "id": "98fae540",
   "metadata": {},
   "outputs": [],
   "source": [
    "db = client['Reviews']  # Access the 'Reviews' database\n",
    "collection = db.Ida\n"
   ]
  },
  {
   "cell_type": "code",
   "execution_count": 6,
   "id": "0e176c1e",
   "metadata": {},
   "outputs": [
    {
     "name": "stdout",
     "output_type": "stream",
     "text": [
      "Average Star Rating: 4.8815\n"
     ]
    }
   ],
   "source": [
    "from bson import SON  # SON is needed to ensure the order of operations\n",
    "\n",
    "average_rating = collection.aggregate([\n",
    "    {\"$group\": {\n",
    "        \"_id\": None,\n",
    "        \"AverageRating\": {\"$avg\": \"$star_rating\"}\n",
    "    }}\n",
    "])\n",
    "\n",
    "for avg in average_rating:\n",
    "    print(\"Average Star Rating:\", avg['AverageRating'])\n"
   ]
  },
  {
   "cell_type": "code",
   "execution_count": 8,
   "id": "2976a4eb",
   "metadata": {},
   "outputs": [
    {
     "name": "stdout",
     "output_type": "stream",
     "text": [
      "Star Rating 1: 7 reviews\n",
      "Star Rating 2: 9 reviews\n",
      "Star Rating 3: 32 reviews\n",
      "Star Rating 4: 118 reviews\n",
      "Star Rating 5: 1834 reviews\n"
     ]
    }
   ],
   "source": [
    "rating_distribution = collection.aggregate([\n",
    "    {\"$group\": {\n",
    "        \"_id\": \"$star_rating\",\n",
    "        \"Count\": {\"$sum\": 1}\n",
    "    }},\n",
    "    {\"$sort\": {\"_id\": 1}}  # Sorting by star_rating in ascending order\n",
    "])\n",
    "\n",
    "for rating in rating_distribution:\n",
    "    print(f\"Star Rating {rating['_id']}: {rating['Count']} reviews\")\n"
   ]
  },
  {
   "cell_type": "code",
   "execution_count": 9,
   "id": "48575805",
   "metadata": {},
   "outputs": [
    {
     "name": "stdout",
     "output_type": "stream",
     "text": [
      "Average Review Message Length: 40.758\n"
     ]
    }
   ],
   "source": [
    "average_review_length = collection.aggregate([\n",
    "    {\"$project\": {\n",
    "        \"lengthOfMessage\": {\"$strLenCP\": \"$message\"} # $strLenCP returns the length of the string in code points\n",
    "    }},\n",
    "    {\"$group\": {\n",
    "        \"_id\": None,\n",
    "        \"AverageLength\": {\"$avg\": \"$lengthOfMessage\"}\n",
    "    }}\n",
    "])\n",
    "\n",
    "for avg in average_review_length:\n",
    "    print(\"Average Review Message Length:\", avg['AverageLength'])\n"
   ]
  },
  {
   "cell_type": "code",
   "execution_count": null,
   "id": "be481135",
   "metadata": {},
   "outputs": [],
   "source": []
  }
 ],
 "metadata": {
  "kernelspec": {
   "display_name": "Python 3 (ipykernel)",
   "language": "python",
   "name": "python3"
  },
  "language_info": {
   "codemirror_mode": {
    "name": "ipython",
    "version": 3
   },
   "file_extension": ".py",
   "mimetype": "text/x-python",
   "name": "python",
   "nbconvert_exporter": "python",
   "pygments_lexer": "ipython3",
   "version": "3.9.12"
  }
 },
 "nbformat": 4,
 "nbformat_minor": 5
}
